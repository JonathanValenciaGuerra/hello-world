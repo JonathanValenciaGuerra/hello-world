{
 "cells": [
  {
   "cell_type": "markdown",
   "id": "f7284d69",
   "metadata": {},
   "source": [
    "# T01 - MARKDOWN"
   ]
  },
  {
   "cell_type": "markdown",
   "id": "176bca9c",
   "metadata": {},
   "source": [
    "## El subtitulo es con dos gatos"
   ]
  },
  {
   "cell_type": "markdown",
   "id": "a2b9670b",
   "metadata": {},
   "source": [
    "Los parrafos van simplemente en markdown. \n",
    "\n",
    "\n",
    "Nada complicado.\n",
    "\n",
    "La geotecnia es la rama de la geología que trata de la aplicación de los principios geológicos en la investigación \n",
    "de los materiales naturales -como las rocas- que constituyen la corteza terrestre implicados en el diseño, la \n",
    "construcción y la explotación de proyectos de ingeniería civil, como autopistas, vías férreas, puentes, presas, \n",
    "oleoductos, acueductos, unidades habitacionales, sitios de confinamiento y edificios en general."
   ]
  },
  {
   "cell_type": "markdown",
   "id": "7c9462c9",
   "metadata": {},
   "source": [
    "**negritas** y _cursiva_"
   ]
  },
  {
   "cell_type": "markdown",
   "id": "5c562547",
   "metadata": {},
   "source": [
    "![](https://i.ytimg.com/vi/hV26gPUQRtg/maxresdefault.jpg)"
   ]
  },
  {
   "cell_type": "markdown",
   "id": "3abc4aa1",
   "metadata": {},
   "source": [
    "1. Mango\n",
    "2. Papaya\n",
    "3. Naranja\n",
    "4. Uva\n",
    "5. Pera\n"
   ]
  },
  {
   "cell_type": "markdown",
   "id": "bf6aa707",
   "metadata": {},
   "source": [
    "- John\n",
    "- Joy\n",
    "- Mateo \n",
    "- Miguel"
   ]
  },
  {
   "cell_type": "markdown",
   "id": "3b180a79",
   "metadata": {},
   "source": [
    "$$\n",
    "\\int_{a}^{b} f(x) \\, dx\n",
    "$$\n"
   ]
  }
 ],
 "metadata": {
  "kernelspec": {
   "display_name": "Python 3 (ipykernel)",
   "language": "python",
   "name": "python3"
  },
  "language_info": {
   "codemirror_mode": {
    "name": "ipython",
    "version": 3
   },
   "file_extension": ".py",
   "mimetype": "text/x-python",
   "name": "python",
   "nbconvert_exporter": "python",
   "pygments_lexer": "ipython3",
   "version": "3.11.4"
  }
 },
 "nbformat": 4,
 "nbformat_minor": 5
}
