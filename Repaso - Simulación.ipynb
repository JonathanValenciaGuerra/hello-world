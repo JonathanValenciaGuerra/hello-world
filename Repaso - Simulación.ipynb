{
 "cells": [
  {
   "cell_type": "markdown",
   "metadata": {},
   "source": [
    "# Repaso - Módulo 2\n",
    "## Jonathan Valencia Guerra                                                                                     19/10/2023\n",
    "---"
   ]
  },
  {
   "cell_type": "markdown",
   "metadata": {},
   "source": [
    "## Cifrado\n",
    "\n",
    "Se recibió un mensaje cifrado con un método congruencial simple: $ x_n = (ax_{n-1}+b)\\mod m $.\n",
    "\n",
    "El cifrado que se usó es el siguiente:\n",
    "- 0 corresponde a 'A'\n",
    "- 1 corresponde a 'B'\n",
    "- 2 corresponde a 'C'\n",
    "- ...\n",
    "- 25 corresponde a 'Z' (no hay 'Ñ')\n",
    "- Se toma la letra y se le suma un número aleatorio desconocido.\n",
    "- Se generan 3 números antes de empezar el cifrado; esto quiere decir que la primera letra es \"Letra + $x_3$\"\n",
    "- El mensaje que llegó fue: \"12, 19, 15, 24\"\n",
    "\n",
    "Sabiendo de antemano que los parámetros de este generador son $m=16$, $a=5$, $b=3$ y que la semilla fue $7$; ¿cuál es el mensaje decodificado?"
   ]
  },
  {
   "cell_type": "code",
   "execution_count": null,
   "metadata": {},
   "outputs": [],
   "source": []
  },
  {
   "cell_type": "code",
   "execution_count": null,
   "metadata": {},
   "outputs": [],
   "source": []
  },
  {
   "cell_type": "code",
   "execution_count": null,
   "metadata": {},
   "outputs": [],
   "source": []
  },
  {
   "cell_type": "markdown",
   "metadata": {},
   "source": [
    "\n",
    "## Evaluación numérica de integrales utilizando Montecarlo\n",
    "Escriba la función para integrar por el método Montecarlo de tipo 1"
   ]
  },
  {
   "cell_type": "code",
   "execution_count": 28,
   "metadata": {},
   "outputs": [],
   "source": []
  },
  {
   "cell_type": "code",
   "execution_count": 29,
   "metadata": {},
   "outputs": [],
   "source": [
    "import numpy as np\n",
    "\n",
    "def montecarlo_tipo1(f, a, b, num_muestras=10000):\n",
    "    x = np.random.uniform(a, b, num_muestras)\n",
    "    fx = f(x)\n",
    "    integral = np.mean(fx)\n",
    "    integral *= (b - a)\n",
    "    return integral\n"
   ]
  },
  {
   "cell_type": "code",
   "execution_count": 30,
   "metadata": {},
   "outputs": [
    {
     "name": "stdout",
     "output_type": "stream",
     "text": [
      "0.3355828902282857\n"
     ]
    }
   ],
   "source": [
    "\n",
    "def f(x):\n",
    "    return x**2\n",
    "\n",
    "resultado = montecarlo_tipo1(f, 0, 1)\n",
    "\n",
    "\n",
    "print(resultado)"
   ]
  },
  {
   "cell_type": "markdown",
   "metadata": {
    "collapsed": true
   },
   "source": [
    "Considere las funciones $f_1(x)=\\sqrt{1+x^{4}}$, $f_2(x)=\\ln(\\ln x)$, $f_3(x)=\\frac {1}{\\ln x}$, y $f_4(x)=e^{-{\\frac {x^{2}}{2}}}$.\n",
    "\n",
    "Utilizar la función anterior para realizar la evaluación numérica de las integrales de las funciones anteriores en el intervalo $(4,5)$. Poner los resultados en una tabla cuyas filas correspondan a la cantidad de términos utilizados en la aproximación (usar 10, 100, 1000, 10000 y 100000 términos) y cuyas columnas correspondan a las funciones."
   ]
  },
  {
   "cell_type": "code",
   "execution_count": 22,
   "metadata": {},
   "outputs": [
    {
     "data": {
      "text/html": [
       "<div>\n",
       "<style scoped>\n",
       "    .dataframe tbody tr th:only-of-type {\n",
       "        vertical-align: middle;\n",
       "    }\n",
       "\n",
       "    .dataframe tbody tr th {\n",
       "        vertical-align: top;\n",
       "    }\n",
       "\n",
       "    .dataframe thead th {\n",
       "        text-align: right;\n",
       "    }\n",
       "</style>\n",
       "<table border=\"1\" class=\"dataframe\">\n",
       "  <thead>\n",
       "    <tr style=\"text-align: right;\">\n",
       "      <th></th>\n",
       "      <th>Aproximación1</th>\n",
       "      <th>Error1</th>\n",
       "      <th>Aproximación2</th>\n",
       "      <th>Error2</th>\n",
       "      <th>Aproximación3</th>\n",
       "      <th>Error3</th>\n",
       "      <th>Aproximación4</th>\n",
       "      <th>Error4</th>\n",
       "      <th>Aproximacion1</th>\n",
       "      <th>Aproximacion2</th>\n",
       "      <th>Aproximacion3</th>\n",
       "      <th>Aproximacion4</th>\n",
       "    </tr>\n",
       "  </thead>\n",
       "  <tbody>\n",
       "    <tr>\n",
       "      <th>10.0</th>\n",
       "      <td>NaN</td>\n",
       "      <td>75.483547</td>\n",
       "      <td>NaN</td>\n",
       "      <td>1.240885</td>\n",
       "      <td>NaN</td>\n",
       "      <td>1.169051</td>\n",
       "      <td>NaN</td>\n",
       "      <td>1.809481</td>\n",
       "      <td>95.841847</td>\n",
       "      <td>1.646770</td>\n",
       "      <td>1.836054</td>\n",
       "      <td>1.809560</td>\n",
       "    </tr>\n",
       "    <tr>\n",
       "      <th>100.0</th>\n",
       "      <td>NaN</td>\n",
       "      <td>78.631566</td>\n",
       "      <td>NaN</td>\n",
       "      <td>1.202922</td>\n",
       "      <td>NaN</td>\n",
       "      <td>1.06706</td>\n",
       "      <td>NaN</td>\n",
       "      <td>1.818491</td>\n",
       "      <td>98.989866</td>\n",
       "      <td>1.608807</td>\n",
       "      <td>1.734063</td>\n",
       "      <td>1.818570</td>\n",
       "    </tr>\n",
       "    <tr>\n",
       "      <th>1000.0</th>\n",
       "      <td>NaN</td>\n",
       "      <td>71.246256</td>\n",
       "      <td>NaN</td>\n",
       "      <td>1.15648</td>\n",
       "      <td>NaN</td>\n",
       "      <td>1.1235</td>\n",
       "      <td>NaN</td>\n",
       "      <td>1.780552</td>\n",
       "      <td>91.604556</td>\n",
       "      <td>1.562365</td>\n",
       "      <td>1.790503</td>\n",
       "      <td>1.780630</td>\n",
       "    </tr>\n",
       "    <tr>\n",
       "      <th>10000.0</th>\n",
       "      <td>NaN</td>\n",
       "      <td>72.469456</td>\n",
       "      <td>NaN</td>\n",
       "      <td>1.154767</td>\n",
       "      <td>NaN</td>\n",
       "      <td>1.122734</td>\n",
       "      <td>NaN</td>\n",
       "      <td>1.790884</td>\n",
       "      <td>92.827756</td>\n",
       "      <td>1.560652</td>\n",
       "      <td>1.789737</td>\n",
       "      <td>1.790962</td>\n",
       "    </tr>\n",
       "    <tr>\n",
       "      <th>100000.0</th>\n",
       "      <td>NaN</td>\n",
       "      <td>72.73556</td>\n",
       "      <td>NaN</td>\n",
       "      <td>1.158716</td>\n",
       "      <td>NaN</td>\n",
       "      <td>1.124223</td>\n",
       "      <td>NaN</td>\n",
       "      <td>1.78861</td>\n",
       "      <td>93.093860</td>\n",
       "      <td>1.564601</td>\n",
       "      <td>1.791226</td>\n",
       "      <td>1.788689</td>\n",
       "    </tr>\n",
       "  </tbody>\n",
       "</table>\n",
       "</div>"
      ],
      "text/plain": [
       "         Aproximación1     Error1 Aproximación2    Error2 Aproximación3  \\\n",
       "10.0               NaN  75.483547           NaN  1.240885           NaN   \n",
       "100.0              NaN  78.631566           NaN  1.202922           NaN   \n",
       "1000.0             NaN  71.246256           NaN   1.15648           NaN   \n",
       "10000.0            NaN  72.469456           NaN  1.154767           NaN   \n",
       "100000.0           NaN   72.73556           NaN  1.158716           NaN   \n",
       "\n",
       "            Error3 Aproximación4    Error4  Aproximacion1  Aproximacion2  \\\n",
       "10.0      1.169051           NaN  1.809481      95.841847       1.646770   \n",
       "100.0      1.06706           NaN  1.818491      98.989866       1.608807   \n",
       "1000.0      1.1235           NaN  1.780552      91.604556       1.562365   \n",
       "10000.0   1.122734           NaN  1.790884      92.827756       1.560652   \n",
       "100000.0  1.124223           NaN   1.78861      93.093860       1.564601   \n",
       "\n",
       "          Aproximacion3  Aproximacion4  \n",
       "10.0           1.836054       1.809560  \n",
       "100.0          1.734063       1.818570  \n",
       "1000.0         1.790503       1.780630  \n",
       "10000.0        1.789737       1.790962  \n",
       "100000.0       1.791226       1.788689  "
      ]
     },
     "execution_count": 22,
     "metadata": {},
     "output_type": "execute_result"
    }
   ],
   "source": [
    "import numpy as np\n",
    "import pandas as pd\n",
    "def f1(x):\n",
    "    return np.sqrt(1+x**4)\n",
    "def f2(x):\n",
    "    return np.log(np.log(x))\n",
    "def f3(x):\n",
    "    return (1/np.log(x))\n",
    "def f4(x):\n",
    "    return np.e**(-x**2)/2\n",
    "N = np.logspace(1, 5, 5)\n",
    "a = 4\n",
    "b = 7\n",
    "\n",
    "tabla = pd.DataFrame(columns = [\"Aproximación1\", \"Error1\", \"Aproximación2\", \"Error2\",\"Aproximación3\", \"Error3\", \"Aproximación4\", \"Error4\"], index = N )\n",
    "\n",
    "def montecarlo(f, N, a , b) :\n",
    "    u = np.random.uniform(a, b, N)\n",
    "    media = np.mean(f(u))\n",
    "    return media*(b-a)\n",
    "\n",
    "for i in N :\n",
    "    aproximacion = montecarlo(f1, int(i), a, b)\n",
    "    tabla.loc[i, \"Aproximacion1\"] = aproximacion\n",
    "    tabla.loc[i, \"Error1\"] = abs(20.3583 - aproximacion) #El 20.3583 es el resultado de la integral definida, primero resolver la integral\n",
    "\n",
    "for i in N :\n",
    "    aproximacion = montecarlo(f2, int(i), a, b)\n",
    "    tabla.loc[i, \"Aproximacion2\"] = aproximacion\n",
    "    tabla.loc[i, \"Error2\"] = abs(0.405885 - aproximacion)\n",
    "\n",
    "for i in N :\n",
    "    aproximacion = montecarlo(f3, int(i), a, b)\n",
    "    tabla.loc[i, \"Aproximacion3\"] = aproximacion\n",
    "    tabla.loc[i, \"Error3\"] = abs(0.667003 - aproximacion)\n",
    "    \n",
    "for i in N :\n",
    "    aproximacion = montecarlo(f3, int(i), a, b)\n",
    "    tabla.loc[i, \"Aproximacion4\"] = aproximacion\n",
    "    tabla.loc[i, \"Error4\"] = abs(0.0000786695 - aproximacion)\n",
    "    \n",
    "tabla"
   ]
  },
  {
   "cell_type": "code",
   "execution_count": null,
   "metadata": {},
   "outputs": [],
   "source": []
  },
  {
   "cell_type": "code",
   "execution_count": null,
   "metadata": {},
   "outputs": [],
   "source": []
  },
  {
   "cell_type": "markdown",
   "metadata": {},
   "source": [
    "## Montecarlo Tipo 2\n",
    "Aproximar el área de la región descrita por\n",
    "\n",
    "$$x^2+2y^2\\leq-2x+8y-7$$\n",
    "\n",
    "Poner los resultados en una tabla cuyas filas correspondan a la cantidad de términos utilizados en la aproximación (usar 10, 100, 1000, 10000 y 100000 términos) y en las columnas el valor de aproximación y el error de integración.\n",
    "\n",
    "Definir unos límites adecuados $a_1$, $b_1$, $a_2$ y $b_2$, para la región $R=\\left[a_1,b_1\\right]\\times\\left[a_2,b_2\\right]$ y grafíque esta región."
   ]
  },
  {
   "cell_type": "code",
   "execution_count": 23,
   "metadata": {},
   "outputs": [
    {
     "data": {
      "text/plain": [
       "<matplotlib.collections.PathCollection at 0x1c7ea9439d0>"
      ]
     },
     "execution_count": 23,
     "metadata": {},
     "output_type": "execute_result"
    },
    {
     "data": {
      "image/png": "[encoded data removed]",
      "text/plain": [
       "<Figure size 640x480 with 1 Axes>"
      ]
     },
     "metadata": {},
     "output_type": "display_data"
    }
   ],
   "source": [
    "import numpy as np\n",
    "import matplotlib.pyplot as plt\n",
    "%matplotlib inline\n",
    "\n",
    "def f(x,y) :\n",
    "    return x**2+2*y**2<=-2*x+8*y-7\n",
    "\n",
    "def montecarlo2 (region, xa, xb, ya, yb, N) :\n",
    "    x = np.random.uniform(xa, xb, N)\n",
    "    y = np.random.uniform(ya, yb, N)\n",
    "    B = region(x, y)\n",
    "    AR = (xb - xa)*(yb - ya)\n",
    "    \n",
    "    return np.mean(B)*AR\n",
    "\n",
    "x = np.random.uniform(-5, 2.5, 100)\n",
    "y = np.random.uniform(0, 5, 100)\n",
    "\n",
    "X, Y = np.meshgrid(x, y)\n",
    "\n",
    "plt.figure()\n",
    "plt.scatter(X, Y, c=f(X, Y))"
   ]
  },
  {
   "cell_type": "code",
   "execution_count": 24,
   "metadata": {},
   "outputs": [
    {
     "data": {
      "text/plain": [
       "14.0"
      ]
     },
     "execution_count": 24,
     "metadata": {},
     "output_type": "execute_result"
    }
   ],
   "source": [
    "montecarlo2(f,-5,2,0,5,10)"
   ]
  },
  {
   "cell_type": "code",
   "execution_count": 25,
   "metadata": {},
   "outputs": [
    {
     "data": {
      "text/plain": [
       "array([1.e+01, 1.e+02, 1.e+03, 1.e+04, 1.e+05, 1.e+06])"
      ]
     },
     "execution_count": 25,
     "metadata": {},
     "output_type": "execute_result"
    }
   ],
   "source": [
    "N = np.logspace(1,6,6)\n",
    "N"
   ]
  },
  {
   "cell_type": "code",
   "execution_count": 26,
   "metadata": {},
   "outputs": [
    {
     "data": {
      "text/html": [
       "<div>\n",
       "<style scoped>\n",
       "    .dataframe tbody tr th:only-of-type {\n",
       "        vertical-align: middle;\n",
       "    }\n",
       "\n",
       "    .dataframe tbody tr th {\n",
       "        vertical-align: top;\n",
       "    }\n",
       "\n",
       "    .dataframe thead th {\n",
       "        text-align: right;\n",
       "    }\n",
       "</style>\n",
       "<table border=\"1\" class=\"dataframe\">\n",
       "  <thead>\n",
       "    <tr style=\"text-align: right;\">\n",
       "      <th></th>\n",
       "      <th>Aproximacion</th>\n",
       "    </tr>\n",
       "  </thead>\n",
       "  <tbody>\n",
       "    <tr>\n",
       "      <th>10.0</th>\n",
       "      <td>0.0</td>\n",
       "    </tr>\n",
       "    <tr>\n",
       "      <th>100.0</th>\n",
       "      <td>5.25</td>\n",
       "    </tr>\n",
       "    <tr>\n",
       "      <th>1000.0</th>\n",
       "      <td>3.78</td>\n",
       "    </tr>\n",
       "    <tr>\n",
       "      <th>10000.0</th>\n",
       "      <td>4.543</td>\n",
       "    </tr>\n",
       "    <tr>\n",
       "      <th>100000.0</th>\n",
       "      <td>4.3806</td>\n",
       "    </tr>\n",
       "    <tr>\n",
       "      <th>1000000.0</th>\n",
       "      <td>4.431035</td>\n",
       "    </tr>\n",
       "  </tbody>\n",
       "</table>\n",
       "</div>"
      ],
      "text/plain": [
       "          Aproximacion\n",
       "10.0               0.0\n",
       "100.0             5.25\n",
       "1000.0            3.78\n",
       "10000.0          4.543\n",
       "100000.0        4.3806\n",
       "1000000.0     4.431035"
      ]
     },
     "execution_count": 26,
     "metadata": {},
     "output_type": "execute_result"
    }
   ],
   "source": [
    "tabla = pd.DataFrame(columns = [\"Aproximacion\"], index = N)\n",
    "\n",
    "for i in N :\n",
    "    aproximacion = montecarlo2(f, -5, 2, 0, 5, int(i))\n",
    "    tabla.loc[i, \"Aproximacion\"] = aproximacion   \n",
    "    \n",
    "tabla"
   ]
  },
  {
   "cell_type": "markdown",
   "metadata": {},
   "source": [
    "---\n",
    "## Fractal aleatorio tipo Barnsley\n",
    "\n",
    "- En la clase de fractales aleatorios vimos que el fractal helecho de Barnsley se generaba a través de cuatro transformaciones afines que se elegían con cierta probabilidad.\n",
    "- Vimos que este helecho representaba de manera muy aproximada helechos reales.\n",
    "- Vimos que modificando parámetros de la tabla, se podían generar mutaciones de el helecho.\n",
    "\n",
    "Pues bien, usando la misma idea de transformaciones afines que se escogen con cierta probabilidad, se pueden generar una infinidad inimaginable de fractales. Incluso, se pueden generar fractales aleatorios que poseen un atractor determinístico.\n",
    "\n",
    "**Referencia:**\n",
    "- Barnsley, Michael F. *Fractals Everywhere: New Edition*, ISBN: 9780486320342."
   ]
  },
  {
   "cell_type": "markdown",
   "metadata": {},
   "source": [
    "Usando la siguiente tabla, evalúe el fractal de Barnsley para 100 000 puntos."
   ]
  },
  {
   "cell_type": "code",
   "execution_count": 1,
   "metadata": {},
   "outputs": [],
   "source": [
    "import pandas as pd\n",
    "import numpy as np"
   ]
  },
  {
   "cell_type": "code",
   "execution_count": 32,
   "metadata": {},
   "outputs": [
    {
     "data": {
      "text/html": [
       "<div>\n",
       "<style scoped>\n",
       "    .dataframe tbody tr th:only-of-type {\n",
       "        vertical-align: middle;\n",
       "    }\n",
       "\n",
       "    .dataframe tbody tr th {\n",
       "        vertical-align: top;\n",
       "    }\n",
       "\n",
       "    .dataframe thead th {\n",
       "        text-align: right;\n",
       "    }\n",
       "</style>\n",
       "<table border=\"1\" class=\"dataframe\">\n",
       "  <thead>\n",
       "    <tr style=\"text-align: right;\">\n",
       "      <th></th>\n",
       "      <th>$a_i$</th>\n",
       "      <th>$b_i$</th>\n",
       "      <th>$c_i$</th>\n",
       "      <th>$d_i$</th>\n",
       "      <th>$e_i$</th>\n",
       "      <th>$f_i$</th>\n",
       "      <th>$p_i$</th>\n",
       "    </tr>\n",
       "    <tr>\n",
       "      <th>$i$</th>\n",
       "      <th></th>\n",
       "      <th></th>\n",
       "      <th></th>\n",
       "      <th></th>\n",
       "      <th></th>\n",
       "      <th></th>\n",
       "      <th></th>\n",
       "    </tr>\n",
       "  </thead>\n",
       "  <tbody>\n",
       "    <tr>\n",
       "      <th>0</th>\n",
       "      <td>0.5</td>\n",
       "      <td>0.0</td>\n",
       "      <td>0.0</td>\n",
       "      <td>0.5</td>\n",
       "      <td>1.0</td>\n",
       "      <td>1.0</td>\n",
       "      <td>0.1</td>\n",
       "    </tr>\n",
       "    <tr>\n",
       "      <th>1</th>\n",
       "      <td>0.5</td>\n",
       "      <td>0.0</td>\n",
       "      <td>0.0</td>\n",
       "      <td>0.5</td>\n",
       "      <td>50.0</td>\n",
       "      <td>1.0</td>\n",
       "      <td>0.2</td>\n",
       "    </tr>\n",
       "    <tr>\n",
       "      <th>2</th>\n",
       "      <td>0.5</td>\n",
       "      <td>0.0</td>\n",
       "      <td>0.0</td>\n",
       "      <td>0.5</td>\n",
       "      <td>1.0</td>\n",
       "      <td>50.0</td>\n",
       "      <td>0.3</td>\n",
       "    </tr>\n",
       "    <tr>\n",
       "      <th>3</th>\n",
       "      <td>0.5</td>\n",
       "      <td>0.0</td>\n",
       "      <td>0.0</td>\n",
       "      <td>0.5</td>\n",
       "      <td>50.0</td>\n",
       "      <td>50.0</td>\n",
       "      <td>0.4</td>\n",
       "    </tr>\n",
       "  </tbody>\n",
       "</table>\n",
       "</div>"
      ],
      "text/plain": [
       "     $a_i$  $b_i$  $c_i$  $d_i$  $e_i$  $f_i$  $p_i$\n",
       "$i$                                                 \n",
       "0      0.5    0.0    0.0    0.5    1.0    1.0    0.1\n",
       "1      0.5    0.0    0.0    0.5   50.0    1.0    0.2\n",
       "2      0.5    0.0    0.0    0.5    1.0   50.0    0.3\n",
       "3      0.5    0.0    0.0    0.5   50.0   50.0    0.4"
      ]
     },
     "execution_count": 32,
     "metadata": {},
     "output_type": "execute_result"
    }
   ],
   "source": [
    "i = np.arange(4)\n",
    "\n",
    "df = pd.DataFrame(index=i,columns=['$a_i$', '$b_i$', '$c_i$', '$d_i$', '$e_i$', '$f_i$', '$p_i$'], dtype='float')\n",
    "df.index.name = \"$i$\"\n",
    "\n",
    "df['$a_i$'] = [0.5, 0.5, 0.5, 0.5]\n",
    "df['$b_i$'] = [0.0, 0.0, 0.0, 0.0]\n",
    "df['$c_i$'] = [0.0, 0.0, 0.0, 0.0]\n",
    "df['$d_i$'] = [0.5, 0.5, 0.5, 0.5]\n",
    "df['$e_i$'] = [1.0, 50.0, 1.0, 50.0]\n",
    "df['$f_i$'] = [1.0, 1.0, 50.0, 50.0]\n",
    "df['$p_i$'] = [0.1, 0.2, 0.3, 0.4]\n",
    "\n",
    "df.round(2)"
   ]
  },
  {
   "cell_type": "code",
   "execution_count": 33,
   "metadata": {},
   "outputs": [
    {
     "data": {
      "text/plain": [
       "0.5"
      ]
     },
     "execution_count": 33,
     "metadata": {},
     "output_type": "execute_result"
    }
   ],
   "source": [
    "df[\"$a_i$\"][2]"
   ]
  },
  {
   "cell_type": "code",
   "execution_count": 34,
   "metadata": {},
   "outputs": [],
   "source": [
    "import random\n",
    "x = [0]\n",
    "y = [0]\n",
    "for k in range(10000):\n",
    "    i = random.choices([0,1,2,3], weights=df[\"$p_i$\"])\n",
    "    \n",
    "    a = float(df[\"$a_i$\"][i])\n",
    "    b = float(df[\"$b_i$\"][i])\n",
    "    c = float(df[\"$c_i$\"][i])\n",
    "    d = float(df[\"$d_i$\"][i])\n",
    "    e = float(df[\"$e_i$\"][i])\n",
    "    f = float(df[\"$f_i$\"][i])\n",
    "    g = float(df[\"$p_i$\"][i])\n",
    "    \n",
    "    xkm1=a*x[-1]+b*y[-1]+e\n",
    "    ykm1=c*x[-1]+d*y[-1]+f\n",
    "    \n",
    "    x.append(xkm1)\n",
    "    y.append(ykm1)"
   ]
  },
  {
   "cell_type": "code",
   "execution_count": 36,
   "metadata": {},
   "outputs": [
    {
     "data": {
      "text/plain": [
       "<matplotlib.collections.PathCollection at 0x1c7ea5d2610>"
      ]
     },
     "execution_count": 36,
     "metadata": {},
     "output_type": "execute_result"
    },
    {
     "data": {
      "image/png": "[encoded data removed]",
      "text/plain": [
       "<Figure size 700x1000 with 1 Axes>"
      ]
     },
     "metadata": {},
     "output_type": "display_data"
    }
   ],
   "source": [
    "plt.figure(figsize=(7,10))\n",
    "plt.scatter(x,y, s=1, c=\"g\")"
   ]
  },
  {
   "cell_type": "markdown",
   "metadata": {},
   "source": [
    "---\n",
    "## Probabilidad Precio-Umbral\n",
    "\n",
    "En las últimas clases vimos una aplicación de simulación montecarlo. Consistía en descargar datos históricos de precio de cierre de acciones de alguna compañía, proyectar esos precios y sacar la probabilidad de que los precios en el siguiente año sobrepasaran cierto precio umbral.\n",
    "\n",
    "En este ejemplo evaluaremos dos compañías con tendencias más o menos similares (Apple y Microsoft) veremos cuál tiene más probabilidades de darnos un interés deseado.\n",
    "\n",
    "Además, descargaremos los datos del año 2020 para ver si el análisis concuerda."
   ]
  },
  {
   "cell_type": "markdown",
   "metadata": {},
   "source": [
    "Descargue datos para Apple y Microsoft desde enero de 2015 a diciembre de 2019 y muestre sus gráficas."
   ]
  },
  {
   "cell_type": "code",
   "execution_count": 37,
   "metadata": {},
   "outputs": [],
   "source": [
    "import yfinance as yf"
   ]
  },
  {
   "cell_type": "code",
   "execution_count": 38,
   "metadata": {},
   "outputs": [
    {
     "name": "stdout",
     "output_type": "stream",
     "text": [
      "[*********************100%%**********************]  2 of 2 completed\n"
     ]
    },
    {
     "data": {
      "text/html": [
       "<div>\n",
       "<style scoped>\n",
       "    .dataframe tbody tr th:only-of-type {\n",
       "        vertical-align: middle;\n",
       "    }\n",
       "\n",
       "    .dataframe tbody tr th {\n",
       "        vertical-align: top;\n",
       "    }\n",
       "\n",
       "    .dataframe thead tr th {\n",
       "        text-align: left;\n",
       "    }\n",
       "\n",
       "    .dataframe thead tr:last-of-type th {\n",
       "        text-align: right;\n",
       "    }\n",
       "</style>\n",
       "<table border=\"1\" class=\"dataframe\">\n",
       "  <thead>\n",
       "    <tr>\n",
       "      <th></th>\n",
       "      <th colspan=\"2\" halign=\"left\">Adj Close</th>\n",
       "      <th colspan=\"2\" halign=\"left\">Close</th>\n",
       "      <th colspan=\"2\" halign=\"left\">High</th>\n",
       "      <th colspan=\"2\" halign=\"left\">Low</th>\n",
       "      <th colspan=\"2\" halign=\"left\">Open</th>\n",
       "      <th colspan=\"2\" halign=\"left\">Volume</th>\n",
       "    </tr>\n",
       "    <tr>\n",
       "      <th></th>\n",
       "      <th>AAPL</th>\n",
       "      <th>MSFT</th>\n",
       "      <th>AAPL</th>\n",
       "      <th>MSFT</th>\n",
       "      <th>AAPL</th>\n",
       "      <th>MSFT</th>\n",
       "      <th>AAPL</th>\n",
       "      <th>MSFT</th>\n",
       "      <th>AAPL</th>\n",
       "      <th>MSFT</th>\n",
       "      <th>AAPL</th>\n",
       "      <th>MSFT</th>\n",
       "    </tr>\n",
       "    <tr>\n",
       "      <th>Date</th>\n",
       "      <th></th>\n",
       "      <th></th>\n",
       "      <th></th>\n",
       "      <th></th>\n",
       "      <th></th>\n",
       "      <th></th>\n",
       "      <th></th>\n",
       "      <th></th>\n",
       "      <th></th>\n",
       "      <th></th>\n",
       "      <th></th>\n",
       "      <th></th>\n",
       "    </tr>\n",
       "  </thead>\n",
       "  <tbody>\n",
       "    <tr>\n",
       "      <th>2015-01-02</th>\n",
       "      <td>24.498680</td>\n",
       "      <td>40.534847</td>\n",
       "      <td>27.332500</td>\n",
       "      <td>46.759998</td>\n",
       "      <td>27.860001</td>\n",
       "      <td>47.419998</td>\n",
       "      <td>26.837500</td>\n",
       "      <td>46.540001</td>\n",
       "      <td>27.847500</td>\n",
       "      <td>46.660000</td>\n",
       "      <td>212818400</td>\n",
       "      <td>27913900</td>\n",
       "    </tr>\n",
       "    <tr>\n",
       "      <th>2015-01-05</th>\n",
       "      <td>23.808517</td>\n",
       "      <td>40.162079</td>\n",
       "      <td>26.562500</td>\n",
       "      <td>46.330002</td>\n",
       "      <td>27.162500</td>\n",
       "      <td>46.730000</td>\n",
       "      <td>26.352501</td>\n",
       "      <td>46.250000</td>\n",
       "      <td>27.072500</td>\n",
       "      <td>46.369999</td>\n",
       "      <td>257142000</td>\n",
       "      <td>39673900</td>\n",
       "    </tr>\n",
       "    <tr>\n",
       "      <th>2015-01-06</th>\n",
       "      <td>23.810759</td>\n",
       "      <td>39.572620</td>\n",
       "      <td>26.565001</td>\n",
       "      <td>45.650002</td>\n",
       "      <td>26.857500</td>\n",
       "      <td>46.750000</td>\n",
       "      <td>26.157499</td>\n",
       "      <td>45.540001</td>\n",
       "      <td>26.635000</td>\n",
       "      <td>46.380001</td>\n",
       "      <td>263188400</td>\n",
       "      <td>36447900</td>\n",
       "    </tr>\n",
       "    <tr>\n",
       "      <th>2015-01-07</th>\n",
       "      <td>24.144636</td>\n",
       "      <td>40.075397</td>\n",
       "      <td>26.937500</td>\n",
       "      <td>46.230000</td>\n",
       "      <td>27.049999</td>\n",
       "      <td>46.459999</td>\n",
       "      <td>26.674999</td>\n",
       "      <td>45.490002</td>\n",
       "      <td>26.799999</td>\n",
       "      <td>45.980000</td>\n",
       "      <td>160423600</td>\n",
       "      <td>29114100</td>\n",
       "    </tr>\n",
       "    <tr>\n",
       "      <th>2015-01-08</th>\n",
       "      <td>25.072325</td>\n",
       "      <td>41.254345</td>\n",
       "      <td>27.972500</td>\n",
       "      <td>47.590000</td>\n",
       "      <td>28.037500</td>\n",
       "      <td>47.750000</td>\n",
       "      <td>27.174999</td>\n",
       "      <td>46.720001</td>\n",
       "      <td>27.307501</td>\n",
       "      <td>46.750000</td>\n",
       "      <td>237458000</td>\n",
       "      <td>29645200</td>\n",
       "    </tr>\n",
       "    <tr>\n",
       "      <th>...</th>\n",
       "      <td>...</td>\n",
       "      <td>...</td>\n",
       "      <td>...</td>\n",
       "      <td>...</td>\n",
       "      <td>...</td>\n",
       "      <td>...</td>\n",
       "      <td>...</td>\n",
       "      <td>...</td>\n",
       "      <td>...</td>\n",
       "      <td>...</td>\n",
       "      <td>...</td>\n",
       "      <td>...</td>\n",
       "    </tr>\n",
       "    <tr>\n",
       "      <th>2019-12-23</th>\n",
       "      <td>69.261597</td>\n",
       "      <td>151.994125</td>\n",
       "      <td>71.000000</td>\n",
       "      <td>157.410004</td>\n",
       "      <td>71.062500</td>\n",
       "      <td>158.119995</td>\n",
       "      <td>70.092499</td>\n",
       "      <td>157.270004</td>\n",
       "      <td>70.132500</td>\n",
       "      <td>158.119995</td>\n",
       "      <td>98572000</td>\n",
       "      <td>17718200</td>\n",
       "    </tr>\n",
       "    <tr>\n",
       "      <th>2019-12-24</th>\n",
       "      <td>69.327454</td>\n",
       "      <td>151.965164</td>\n",
       "      <td>71.067497</td>\n",
       "      <td>157.380005</td>\n",
       "      <td>71.222504</td>\n",
       "      <td>157.710007</td>\n",
       "      <td>70.730003</td>\n",
       "      <td>157.119995</td>\n",
       "      <td>71.172501</td>\n",
       "      <td>157.479996</td>\n",
       "      <td>48478800</td>\n",
       "      <td>8989200</td>\n",
       "    </tr>\n",
       "    <tr>\n",
       "      <th>2019-12-26</th>\n",
       "      <td>70.702927</td>\n",
       "      <td>153.210800</td>\n",
       "      <td>72.477501</td>\n",
       "      <td>158.669998</td>\n",
       "      <td>72.495003</td>\n",
       "      <td>158.729996</td>\n",
       "      <td>71.175003</td>\n",
       "      <td>157.399994</td>\n",
       "      <td>71.205002</td>\n",
       "      <td>157.559998</td>\n",
       "      <td>93121200</td>\n",
       "      <td>14520600</td>\n",
       "    </tr>\n",
       "    <tr>\n",
       "      <th>2019-12-27</th>\n",
       "      <td>70.676109</td>\n",
       "      <td>153.490799</td>\n",
       "      <td>72.449997</td>\n",
       "      <td>158.960007</td>\n",
       "      <td>73.492500</td>\n",
       "      <td>159.550003</td>\n",
       "      <td>72.029999</td>\n",
       "      <td>158.220001</td>\n",
       "      <td>72.779999</td>\n",
       "      <td>159.449997</td>\n",
       "      <td>146266000</td>\n",
       "      <td>18412800</td>\n",
       "    </tr>\n",
       "    <tr>\n",
       "      <th>2019-12-30</th>\n",
       "      <td>71.095566</td>\n",
       "      <td>152.167908</td>\n",
       "      <td>72.879997</td>\n",
       "      <td>157.589996</td>\n",
       "      <td>73.172501</td>\n",
       "      <td>159.020004</td>\n",
       "      <td>71.305000</td>\n",
       "      <td>156.729996</td>\n",
       "      <td>72.364998</td>\n",
       "      <td>158.990005</td>\n",
       "      <td>144114400</td>\n",
       "      <td>16348400</td>\n",
       "    </tr>\n",
       "  </tbody>\n",
       "</table>\n",
       "<p>1257 rows × 12 columns</p>\n",
       "</div>"
      ],
      "text/plain": [
       "            Adj Close                  Close                   High  \\\n",
       "                 AAPL        MSFT       AAPL        MSFT       AAPL   \n",
       "Date                                                                  \n",
       "2015-01-02  24.498680   40.534847  27.332500   46.759998  27.860001   \n",
       "2015-01-05  23.808517   40.162079  26.562500   46.330002  27.162500   \n",
       "2015-01-06  23.810759   39.572620  26.565001   45.650002  26.857500   \n",
       "2015-01-07  24.144636   40.075397  26.937500   46.230000  27.049999   \n",
       "2015-01-08  25.072325   41.254345  27.972500   47.590000  28.037500   \n",
       "...               ...         ...        ...         ...        ...   \n",
       "2019-12-23  69.261597  151.994125  71.000000  157.410004  71.062500   \n",
       "2019-12-24  69.327454  151.965164  71.067497  157.380005  71.222504   \n",
       "2019-12-26  70.702927  153.210800  72.477501  158.669998  72.495003   \n",
       "2019-12-27  70.676109  153.490799  72.449997  158.960007  73.492500   \n",
       "2019-12-30  71.095566  152.167908  72.879997  157.589996  73.172501   \n",
       "\n",
       "                              Low                   Open              \\\n",
       "                  MSFT       AAPL        MSFT       AAPL        MSFT   \n",
       "Date                                                                   \n",
       "2015-01-02   47.419998  26.837500   46.540001  27.847500   46.660000   \n",
       "2015-01-05   46.730000  26.352501   46.250000  27.072500   46.369999   \n",
       "2015-01-06   46.750000  26.157499   45.540001  26.635000   46.380001   \n",
       "2015-01-07   46.459999  26.674999   45.490002  26.799999   45.980000   \n",
       "2015-01-08   47.750000  27.174999   46.720001  27.307501   46.750000   \n",
       "...                ...        ...         ...        ...         ...   \n",
       "2019-12-23  158.119995  70.092499  157.270004  70.132500  158.119995   \n",
       "2019-12-24  157.710007  70.730003  157.119995  71.172501  157.479996   \n",
       "2019-12-26  158.729996  71.175003  157.399994  71.205002  157.559998   \n",
       "2019-12-27  159.550003  72.029999  158.220001  72.779999  159.449997   \n",
       "2019-12-30  159.020004  71.305000  156.729996  72.364998  158.990005   \n",
       "\n",
       "               Volume            \n",
       "                 AAPL      MSFT  \n",
       "Date                             \n",
       "2015-01-02  212818400  27913900  \n",
       "2015-01-05  257142000  39673900  \n",
       "2015-01-06  263188400  36447900  \n",
       "2015-01-07  160423600  29114100  \n",
       "2015-01-08  237458000  29645200  \n",
       "...               ...       ...  \n",
       "2019-12-23   98572000  17718200  \n",
       "2019-12-24   48478800   8989200  \n",
       "2019-12-26   93121200  14520600  \n",
       "2019-12-27  146266000  18412800  \n",
       "2019-12-30  144114400  16348400  \n",
       "\n",
       "[1257 rows x 12 columns]"
      ]
     },
     "execution_count": 38,
     "metadata": {},
     "output_type": "execute_result"
    }
   ],
   "source": [
    "data = yf.download([\"MSFT\", \"AAPL\"], \"2015-01-01\", \"2019-12-31\")\n",
    "data"
   ]
  },
  {
   "cell_type": "code",
   "execution_count": 39,
   "metadata": {},
   "outputs": [
    {
     "data": {
      "text/html": [
       "<div>\n",
       "<style scoped>\n",
       "    .dataframe tbody tr th:only-of-type {\n",
       "        vertical-align: middle;\n",
       "    }\n",
       "\n",
       "    .dataframe tbody tr th {\n",
       "        vertical-align: top;\n",
       "    }\n",
       "\n",
       "    .dataframe thead th {\n",
       "        text-align: right;\n",
       "    }\n",
       "</style>\n",
       "<table border=\"1\" class=\"dataframe\">\n",
       "  <thead>\n",
       "    <tr style=\"text-align: right;\">\n",
       "      <th></th>\n",
       "      <th>AAPL</th>\n",
       "      <th>MSFT</th>\n",
       "    </tr>\n",
       "    <tr>\n",
       "      <th>Date</th>\n",
       "      <th></th>\n",
       "      <th></th>\n",
       "    </tr>\n",
       "  </thead>\n",
       "  <tbody>\n",
       "    <tr>\n",
       "      <th>2015-01-02</th>\n",
       "      <td>27.860001</td>\n",
       "      <td>47.419998</td>\n",
       "    </tr>\n",
       "    <tr>\n",
       "      <th>2015-01-05</th>\n",
       "      <td>27.162500</td>\n",
       "      <td>46.730000</td>\n",
       "    </tr>\n",
       "    <tr>\n",
       "      <th>2015-01-06</th>\n",
       "      <td>26.857500</td>\n",
       "      <td>46.750000</td>\n",
       "    </tr>\n",
       "    <tr>\n",
       "      <th>2015-01-07</th>\n",
       "      <td>27.049999</td>\n",
       "      <td>46.459999</td>\n",
       "    </tr>\n",
       "    <tr>\n",
       "      <th>2015-01-08</th>\n",
       "      <td>28.037500</td>\n",
       "      <td>47.750000</td>\n",
       "    </tr>\n",
       "    <tr>\n",
       "      <th>...</th>\n",
       "      <td>...</td>\n",
       "      <td>...</td>\n",
       "    </tr>\n",
       "    <tr>\n",
       "      <th>2019-12-23</th>\n",
       "      <td>71.062500</td>\n",
       "      <td>158.119995</td>\n",
       "    </tr>\n",
       "    <tr>\n",
       "      <th>2019-12-24</th>\n",
       "      <td>71.222504</td>\n",
       "      <td>157.710007</td>\n",
       "    </tr>\n",
       "    <tr>\n",
       "      <th>2019-12-26</th>\n",
       "      <td>72.495003</td>\n",
       "      <td>158.729996</td>\n",
       "    </tr>\n",
       "    <tr>\n",
       "      <th>2019-12-27</th>\n",
       "      <td>73.492500</td>\n",
       "      <td>159.550003</td>\n",
       "    </tr>\n",
       "    <tr>\n",
       "      <th>2019-12-30</th>\n",
       "      <td>73.172501</td>\n",
       "      <td>159.020004</td>\n",
       "    </tr>\n",
       "  </tbody>\n",
       "</table>\n",
       "<p>1257 rows × 2 columns</p>\n",
       "</div>"
      ],
      "text/plain": [
       "                 AAPL        MSFT\n",
       "Date                             \n",
       "2015-01-02  27.860001   47.419998\n",
       "2015-01-05  27.162500   46.730000\n",
       "2015-01-06  26.857500   46.750000\n",
       "2015-01-07  27.049999   46.459999\n",
       "2015-01-08  28.037500   47.750000\n",
       "...               ...         ...\n",
       "2019-12-23  71.062500  158.119995\n",
       "2019-12-24  71.222504  157.710007\n",
       "2019-12-26  72.495003  158.729996\n",
       "2019-12-27  73.492500  159.550003\n",
       "2019-12-30  73.172501  159.020004\n",
       "\n",
       "[1257 rows x 2 columns]"
      ]
     },
     "execution_count": 39,
     "metadata": {},
     "output_type": "execute_result"
    }
   ],
   "source": [
    "data[\"High\"] #Máximos"
   ]
  },
  {
   "cell_type": "code",
   "execution_count": 40,
   "metadata": {},
   "outputs": [
    {
     "data": {
      "text/html": [
       "<div>\n",
       "<style scoped>\n",
       "    .dataframe tbody tr th:only-of-type {\n",
       "        vertical-align: middle;\n",
       "    }\n",
       "\n",
       "    .dataframe tbody tr th {\n",
       "        vertical-align: top;\n",
       "    }\n",
       "\n",
       "    .dataframe thead th {\n",
       "        text-align: right;\n",
       "    }\n",
       "</style>\n",
       "<table border=\"1\" class=\"dataframe\">\n",
       "  <thead>\n",
       "    <tr style=\"text-align: right;\">\n",
       "      <th></th>\n",
       "      <th>AAPL</th>\n",
       "      <th>MSFT</th>\n",
       "    </tr>\n",
       "    <tr>\n",
       "      <th>Date</th>\n",
       "      <th></th>\n",
       "      <th></th>\n",
       "    </tr>\n",
       "  </thead>\n",
       "  <tbody>\n",
       "    <tr>\n",
       "      <th>2015-01-02</th>\n",
       "      <td>26.837500</td>\n",
       "      <td>46.540001</td>\n",
       "    </tr>\n",
       "    <tr>\n",
       "      <th>2015-01-05</th>\n",
       "      <td>26.352501</td>\n",
       "      <td>46.250000</td>\n",
       "    </tr>\n",
       "    <tr>\n",
       "      <th>2015-01-06</th>\n",
       "      <td>26.157499</td>\n",
       "      <td>45.540001</td>\n",
       "    </tr>\n",
       "    <tr>\n",
       "      <th>2015-01-07</th>\n",
       "      <td>26.674999</td>\n",
       "      <td>45.490002</td>\n",
       "    </tr>\n",
       "    <tr>\n",
       "      <th>2015-01-08</th>\n",
       "      <td>27.174999</td>\n",
       "      <td>46.720001</td>\n",
       "    </tr>\n",
       "    <tr>\n",
       "      <th>...</th>\n",
       "      <td>...</td>\n",
       "      <td>...</td>\n",
       "    </tr>\n",
       "    <tr>\n",
       "      <th>2019-12-23</th>\n",
       "      <td>70.092499</td>\n",
       "      <td>157.270004</td>\n",
       "    </tr>\n",
       "    <tr>\n",
       "      <th>2019-12-24</th>\n",
       "      <td>70.730003</td>\n",
       "      <td>157.119995</td>\n",
       "    </tr>\n",
       "    <tr>\n",
       "      <th>2019-12-26</th>\n",
       "      <td>71.175003</td>\n",
       "      <td>157.399994</td>\n",
       "    </tr>\n",
       "    <tr>\n",
       "      <th>2019-12-27</th>\n",
       "      <td>72.029999</td>\n",
       "      <td>158.220001</td>\n",
       "    </tr>\n",
       "    <tr>\n",
       "      <th>2019-12-30</th>\n",
       "      <td>71.305000</td>\n",
       "      <td>156.729996</td>\n",
       "    </tr>\n",
       "  </tbody>\n",
       "</table>\n",
       "<p>1257 rows × 2 columns</p>\n",
       "</div>"
      ],
      "text/plain": [
       "                 AAPL        MSFT\n",
       "Date                             \n",
       "2015-01-02  26.837500   46.540001\n",
       "2015-01-05  26.352501   46.250000\n",
       "2015-01-06  26.157499   45.540001\n",
       "2015-01-07  26.674999   45.490002\n",
       "2015-01-08  27.174999   46.720001\n",
       "...               ...         ...\n",
       "2019-12-23  70.092499  157.270004\n",
       "2019-12-24  70.730003  157.119995\n",
       "2019-12-26  71.175003  157.399994\n",
       "2019-12-27  72.029999  158.220001\n",
       "2019-12-30  71.305000  156.729996\n",
       "\n",
       "[1257 rows x 2 columns]"
      ]
     },
     "execution_count": 40,
     "metadata": {},
     "output_type": "execute_result"
    }
   ],
   "source": [
    "data[\"Low\"] #Mínimos"
   ]
  },
  {
   "cell_type": "markdown",
   "metadata": {},
   "source": [
    "Calcule los rendimientos diarios junto con sus características estadísticas"
   ]
  },
  {
   "cell_type": "code",
   "execution_count": 41,
   "metadata": {},
   "outputs": [
    {
     "name": "stdout",
     "output_type": "stream",
     "text": [
      "[*********************100%%**********************]  2 of 2 completed\n"
     ]
    }
   ],
   "source": [
    "data = yf.download([\"MSFT\", \"AAPL\"], \"2015-01-01\", \"2019-12-31\")"
   ]
  },
  {
   "cell_type": "code",
   "execution_count": 42,
   "metadata": {},
   "outputs": [],
   "source": [
    "data = data[\"Adj Close\"]"
   ]
  },
  {
   "cell_type": "code",
   "execution_count": 43,
   "metadata": {},
   "outputs": [],
   "source": [
    "R = (data-data.shift())/data.shift()"
   ]
  },
  {
   "cell_type": "code",
   "execution_count": 44,
   "metadata": {},
   "outputs": [
    {
     "data": {
      "text/plain": [
       "AAPL    0.000971\n",
       "MSFT    0.001161\n",
       "dtype: float64"
      ]
     },
     "execution_count": 44,
     "metadata": {},
     "output_type": "execute_result"
    }
   ],
   "source": [
    "R.mean() #Media"
   ]
  },
  {
   "cell_type": "code",
   "execution_count": 45,
   "metadata": {},
   "outputs": [
    {
     "data": {
      "text/plain": [
       "AAPL    0.015651\n",
       "MSFT    0.014692\n",
       "dtype: float64"
      ]
     },
     "execution_count": 45,
     "metadata": {},
     "output_type": "execute_result"
    }
   ],
   "source": [
    "R.std() #Desviación estándar"
   ]
  },
  {
   "cell_type": "code",
   "execution_count": 46,
   "metadata": {},
   "outputs": [
    {
     "data": {
      "text/html": [
       "<div>\n",
       "<style scoped>\n",
       "    .dataframe tbody tr th:only-of-type {\n",
       "        vertical-align: middle;\n",
       "    }\n",
       "\n",
       "    .dataframe tbody tr th {\n",
       "        vertical-align: top;\n",
       "    }\n",
       "\n",
       "    .dataframe thead th {\n",
       "        text-align: right;\n",
       "    }\n",
       "</style>\n",
       "<table border=\"1\" class=\"dataframe\">\n",
       "  <thead>\n",
       "    <tr style=\"text-align: right;\">\n",
       "      <th></th>\n",
       "      <th>AAPL</th>\n",
       "      <th>MSFT</th>\n",
       "    </tr>\n",
       "  </thead>\n",
       "  <tbody>\n",
       "    <tr>\n",
       "      <th>count</th>\n",
       "      <td>1256.000000</td>\n",
       "      <td>1256.000000</td>\n",
       "    </tr>\n",
       "    <tr>\n",
       "      <th>mean</th>\n",
       "      <td>0.000971</td>\n",
       "      <td>0.001161</td>\n",
       "    </tr>\n",
       "    <tr>\n",
       "      <th>std</th>\n",
       "      <td>0.015651</td>\n",
       "      <td>0.014692</td>\n",
       "    </tr>\n",
       "    <tr>\n",
       "      <th>min</th>\n",
       "      <td>-0.099607</td>\n",
       "      <td>-0.092534</td>\n",
       "    </tr>\n",
       "    <tr>\n",
       "      <th>25%</th>\n",
       "      <td>-0.005857</td>\n",
       "      <td>-0.005403</td>\n",
       "    </tr>\n",
       "    <tr>\n",
       "      <th>50%</th>\n",
       "      <td>0.000892</td>\n",
       "      <td>0.000890</td>\n",
       "    </tr>\n",
       "    <tr>\n",
       "      <th>75%</th>\n",
       "      <td>0.008924</td>\n",
       "      <td>0.008058</td>\n",
       "    </tr>\n",
       "    <tr>\n",
       "      <th>max</th>\n",
       "      <td>0.070422</td>\n",
       "      <td>0.104523</td>\n",
       "    </tr>\n",
       "  </tbody>\n",
       "</table>\n",
       "</div>"
      ],
      "text/plain": [
       "              AAPL         MSFT\n",
       "count  1256.000000  1256.000000\n",
       "mean      0.000971     0.001161\n",
       "std       0.015651     0.014692\n",
       "min      -0.099607    -0.092534\n",
       "25%      -0.005857    -0.005403\n",
       "50%       0.000892     0.000890\n",
       "75%       0.008924     0.008058\n",
       "max       0.070422     0.104523"
      ]
     },
     "execution_count": 46,
     "metadata": {},
     "output_type": "execute_result"
    }
   ],
   "source": [
    "R.describe()"
   ]
  },
  {
   "cell_type": "code",
   "execution_count": 47,
   "metadata": {},
   "outputs": [
    {
     "data": {
      "text/plain": [
       "<Axes: ylabel='Frequency'>"
      ]
     },
     "execution_count": 47,
     "metadata": {},
     "output_type": "execute_result"
    },
    {
     "data": {
      "image/png": "[encoded data removed]",
      "text/plain": [
       "<Figure size 640x480 with 1 Axes>"
      ]
     },
     "metadata": {},
     "output_type": "display_data"
    }
   ],
   "source": [
    "R.plot.hist(alpha=0.5)"
   ]
  },
  {
   "cell_type": "markdown",
   "metadata": {},
   "source": [
    "Simule 1000 escenarios de rendimientos diarios para el 2020 (para cada una de las empresas)"
   ]
  },
  {
   "cell_type": "code",
   "execution_count": null,
   "metadata": {},
   "outputs": [],
   "source": []
  },
  {
   "cell_type": "code",
   "execution_count": null,
   "metadata": {},
   "outputs": [],
   "source": []
  },
  {
   "cell_type": "markdown",
   "metadata": {},
   "source": [
    "Calcule los precios con base en los rendimientos simulados"
   ]
  },
  {
   "cell_type": "code",
   "execution_count": null,
   "metadata": {},
   "outputs": [],
   "source": []
  },
  {
   "cell_type": "markdown",
   "metadata": {},
   "source": [
    "Calcule la probabilidad de obtener un retorno del 20% para ambas marcas."
   ]
  },
  {
   "cell_type": "code",
   "execution_count": null,
   "metadata": {},
   "outputs": [],
   "source": []
  },
  {
   "cell_type": "code",
   "execution_count": null,
   "metadata": {},
   "outputs": [],
   "source": []
  },
  {
   "cell_type": "markdown",
   "metadata": {},
   "source": [
    "Finalmente, grafique los datos reales del 2020 para ver que tan acertado fue nuestro análisis."
   ]
  },
  {
   "cell_type": "code",
   "execution_count": null,
   "metadata": {},
   "outputs": [],
   "source": []
  },
  {
   "cell_type": "code",
   "execution_count": null,
   "metadata": {},
   "outputs": [],
   "source": []
  },
  {
   "cell_type": "markdown",
   "metadata": {},
   "source": [
    "## Probabilidad"
   ]
  },
  {
   "cell_type": "markdown",
   "metadata": {},
   "source": [
    "Imagina que en un país la estatura promedio es 164 centímetros, con una desviación estándar de 4 centímetros. ¿Cuál es la probabilidad de que si sumamos la estatura de 20 personas se obtenga un valor mayor a 30 metros?"
   ]
  },
  {
   "cell_type": "code",
   "execution_count": 4,
   "metadata": {},
   "outputs": [],
   "source": [
    "import math\n",
    "from scipy.stats import norm\n",
    "\n",
    "media_individual = 164  # en cm\n",
    "desviacion_estandar_individual = 4  # en cm\n",
    "n_personas = 20\n",
    "altura_total = 30 * 100  # convertir a cm\n",
    "\n",
    "\n",
    "media_suma = n_personas * media_individual\n",
    "desviacion_estandar_suma = math.sqrt(n_personas) * desviacion_estandar_individual\n",
    "\n",
    "\n",
    "z_score = (altura_total - media_suma) / desviacion_estandar_suma\n",
    "\n",
    "\n",
    "probabilidad = 1 - norm.cdf(z_score)\n",
    "\n"
   ]
  },
  {
   "cell_type": "code",
   "execution_count": 3,
   "metadata": {},
   "outputs": [
    {
     "data": {
      "text/plain": [
       "1.0"
      ]
     },
     "execution_count": 3,
     "metadata": {},
     "output_type": "execute_result"
    }
   ],
   "source": [
    "probabilidad"
   ]
  },
  {
   "cell_type": "code",
   "execution_count": null,
   "metadata": {},
   "outputs": [],
   "source": []
  }
 ],
 "metadata": {
  "kernelspec": {
   "display_name": "Python 3 (ipykernel)",
   "language": "python",
   "name": "python3"
  },
  "language_info": {
   "codemirror_mode": {
    "name": "ipython",
    "version": 3
   },
   "file_extension": ".py",
   "mimetype": "text/x-python",
   "name": "python",
   "nbconvert_exporter": "python",
   "pygments_lexer": "ipython3",
   "version": "3.11.4"
  }
 },
 "nbformat": 4,
 "nbformat_minor": 2
}
